{
 "cells": [
  {
   "cell_type": "code",
   "execution_count": 1,
   "metadata": {},
   "outputs": [
    {
     "name": "stdout",
     "output_type": "stream",
     "text": [
      "Initializing network...\n",
      "Training params:\n",
      "learning rate -> 0.015\n",
      "batch size -> 100\n",
      "number of epochs -> 5\n",
      "[PRE-TRAIN] acc: 0.08688333333333334 (5213/60000)\n",
      "Training started...\n",
      " 17.245302 seconds (29.98 M allocations: 32.408 GiB, 9.69% gc time, 16.89% compilation time)\n",
      "[EPOCH_1 TRAIN] acc: 0.6364833333333333 (38189/60000)\n",
      " 12.267609 seconds (27.78 M allocations: 32.263 GiB, 10.88% gc time)\n",
      "[EPOCH_2 TRAIN] acc: 0.7953 (47718/60000)\n",
      " 11.685337 seconds (27.78 M allocations: 32.263 GiB, 10.58% gc time)\n",
      "[EPOCH_3 TRAIN] acc: 0.8222 (49332/60000)\n",
      " 10.845970 seconds (27.78 M allocations: 32.263 GiB, 10.16% gc time)\n",
      "[EPOCH_4 TRAIN] acc: 0.8391833333333333 (50351/60000)\n",
      " 10.956166 seconds (27.78 M allocations: 32.263 GiB, 9.87% gc time)\n",
      "[EPOCH_5 TRAIN] acc: 0.8517333333333333 (51104/60000)\n",
      " 63.018028 seconds (141.11 M allocations: 161.459 GiB, 10.20% gc time, 4.64% compilation time)\n"
     ]
    }
   ],
   "source": [
    "include(\"net/RNNetwork.jl\")\n",
    "\n",
    "using MLDatasets, Flux\n",
    "\n",
    "train_data = MLDatasets.MNIST(split=:train)\n",
    "x1dim = reshape(train_data.features, 28 * 28, :)\n",
    "yhot = Flux.onehotbatch(train_data.targets, 0:9)\n",
    "\n",
    "net = init_net(196, 64, 10)\n",
    "\n",
    "LR = 15e-3\n",
    "BATCH_SIZE = 100\n",
    "EPOCHS_NUM = 5\n",
    "\n",
    "train_net!(net, x1dim, yhot, LR, BATCH_SIZE, EPOCHS_NUM)"
   ]
  },
  {
   "cell_type": "code",
   "execution_count": 2,
   "metadata": {},
   "outputs": [
    {
     "name": "stdout",
     "output_type": "stream",
     "text": [
      "  0.259325 seconds (1.12 M allocations: 154.383 MiB, 3.52% gc time)\n",
      "[TEST] acc: 0.8653 (8653/10000)\n"
     ]
    }
   ],
   "source": [
    "test_data  = MLDatasets.MNIST(split=:test)\n",
    "x1dim_test = reshape(test_data.features, 28*28, :)\n",
    "yhot_test = Flux.onehotbatch(test_data.targets, 0:9)\n",
    "\n",
    "test_net(net, x1dim_test, yhot_test)"
   ]
  }
 ],
 "metadata": {
  "kernelspec": {
   "display_name": "Julia 1.10.3",
   "language": "julia",
   "name": "julia-1.10"
  },
  "language_info": {
   "file_extension": ".jl",
   "mimetype": "application/julia",
   "name": "julia",
   "version": "1.10.3"
  }
 },
 "nbformat": 4,
 "nbformat_minor": 2
}
